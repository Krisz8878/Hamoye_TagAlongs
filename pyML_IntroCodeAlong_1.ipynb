{
 "cells": [
  {
   "cell_type": "code",
   "execution_count": 16,
   "id": "410a499a-b347-461c-960b-a54ecf4e45b2",
   "metadata": {},
   "outputs": [
    {
     "name": "stdout",
     "output_type": "stream",
     "text": [
      "   Area Code     Area  Item Code         Item  Element Code  \\\n",
      "0          4  Algeria       2501   Population           511   \n",
      "1          4  Algeria       2501   Population          5301   \n",
      "2          4  Algeria       2901  Grand Total           664   \n",
      "3          4  Algeria       2901  Grand Total           674   \n",
      "4          4  Algeria       2901  Grand Total           684   \n",
      "\n",
      "                                  Element             Unit     Y2014  \\\n",
      "0           Total Population - Both sexes     1000 persons  38924.00   \n",
      "1                Domestic supply quantity      1000 tonnes      0.00   \n",
      "2           Food supply (kcal/capita/day)  kcal/capita/day   3377.00   \n",
      "3  Protein supply quantity (g/capita/day)     g/capita/day     94.90   \n",
      "4      Fat supply quantity (g/capita/day)     g/capita/day     80.06   \n",
      "\n",
      "      Y2015     Y2016     Y2017     Y2018  \n",
      "0  39728.00  40551.00  41389.00  42228.00  \n",
      "1      0.00      0.00      0.00      0.00  \n",
      "2   3379.00   3372.00   3341.00   3322.00  \n",
      "3     94.35     94.72     92.82     91.83  \n",
      "4     79.36     77.40     80.19     77.28  \n"
     ]
    }
   ],
   "source": [
    "# importing required library\n",
    "import pandas as pd\n",
    "\n",
    "#loading and reading the dataset into the pandas dataframe\n",
    "wk_data = pd.read_csv(r\"C:\\Users\\HP\\Documents\\Hamoye_Intern\\FoodBalanceSheets_E_Africa_NOFLAG.csv\", encoding = \"latin-1\")\n",
    "\n",
    "# printing a few rows to confirm successful import and reading of the dataset\n",
    "print(wk_data.head())"
   ]
  },
  {
   "cell_type": "code",
   "execution_count": 21,
   "id": "44490e1e-97a7-4c60-a332-776fc8182414",
   "metadata": {},
   "outputs": [
    {
     "name": "stdout",
     "output_type": "stream",
     "text": [
      "Mean for 2017 is:  Y2017    140.92\n",
      "dtype: float64\n",
      "Standard Deviation for 2017 is:  Y2017    1671.86\n",
      "dtype: float64\n"
     ]
    }
   ],
   "source": [
    "# solving the first question from the quiz by first filtering the dataframe for the year 2017\n",
    "data_2017 = wk_data[['Y2017']]\n",
    "\n",
    "# calculating the mean and standared deviation for the entire dataset for the year 2017\n",
    "mean_2017 = data_2017.mean().round(2)\n",
    "std_2017 = data_2017.std().round(2)\n",
    "\n",
    "# printing the values for mean and std of 2017\n",
    "print(\"Mean for 2017 is: \", mean_2017)\n",
    "print(\"Standard Deviation for 2017 is: \", std_2017)\n"
   ]
  },
  {
   "cell_type": "code",
   "execution_count": 22,
   "id": "4ea2c2bb-5535-43bc-9af2-cf70721839d6",
   "metadata": {},
   "outputs": [
    {
     "name": "stdout",
     "output_type": "stream",
     "text": [
      "Area with the 7th lowest sum in 2017 is:  Guinea-Bissau\n",
      "Sum in 2017 is:  19102.77\n"
     ]
    }
   ],
   "source": [
    "# calculating the seventh lowest sum in 2017 grouping Area and Y2017\n",
    "\n",
    "# selecting the columns Area and Y2017\n",
    "selected_data = wk_data[['Y2017', 'Area']]\n",
    "\n",
    "# grouping by Area and summing the values for 2017\n",
    "grouped_data = selected_data.groupby('Area').sum()\n",
    "\n",
    "# sorting the dataframe by the sum of Y2017 in ascending order\n",
    "sorted_data = grouped_data.sort_values(by='Y2017')\n",
    "\n",
    "# extracting the 7th row which has the lowest sum\n",
    "seventh_lowest = sorted_data.iloc[6]\n",
    "\n",
    "# printing the result\n",
    "print(\"Area with the 7th lowest sum in 2017 is: \", seventh_lowest.name)\n",
    "print(\"Sum in 2017 is: \", seventh_lowest['Y2017'])"
   ]
  },
  {
   "cell_type": "code",
   "execution_count": 19,
   "id": "da23f769-e2a7-44aa-8923-60220e0a38ec",
   "metadata": {},
   "outputs": [
    {
     "name": "stdout",
     "output_type": "stream",
     "text": [
      "Area with the highest sum in 2017 is:  Nigeria\n"
     ]
    }
   ],
   "source": [
    "# finding the area with the highest sum in 2017\n",
    "\n",
    "# selecting the columns Area and Y2017\n",
    "selctd_data = wk_data[['Y2017', 'Area']]\n",
    "\n",
    "# grouping by Area and summing the values for Y2017\n",
    "grp_data = selctd_data.groupby('Area').sum()\n",
    "\n",
    "# finding the area with the highest sum in 2017\n",
    "area_with_highest_sum = grp_data['Y2017'].idxmax()\n",
    "\n",
    "# printing the result\n",
    "print(\"Area with the highest sum in 2017 is: \", area_with_highest_sum)"
   ]
  },
  {
   "cell_type": "code",
   "execution_count": 23,
   "id": "650a698a-182c-45a1-96a1-fea97a6873ca",
   "metadata": {},
   "outputs": [
    {
     "name": "stdout",
     "output_type": "stream",
     "text": [
      "Year with the least correlation with Element Code is:  Y2016\n"
     ]
    }
   ],
   "source": [
    "# finding the least correlation with 'Element Code' with each year\n",
    "\n",
    "# selecting the columns Element code and all years\n",
    "selected_col = wk_data[['Element Code', 'Y2014', 'Y2015', 'Y2016', 'Y2017', 'Y2018']]\n",
    "\n",
    "# calculating the correlation between Element code and all the years\n",
    "correlation = selected_col.corr()['Element Code'].dropna()\n",
    "\n",
    "# finding the min corr\n",
    "min_corr_yr = correlation.idxmin()\n",
    "\n",
    "# printing the result\n",
    "print(\"Year with the least correlation with Element Code is: \", min_corr_yr)"
   ]
  },
  {
   "cell_type": "code",
   "execution_count": 24,
   "id": "b28fb1ce-881f-4810-876c-005176e574c1",
   "metadata": {},
   "outputs": [
    {
     "name": "stdout",
     "output_type": "stream",
     "text": [
      "Total number of missing data points in 2014 is:  1589\n",
      "Percentage of missing data in 2014 is:  2.607%\n"
     ]
    }
   ],
   "source": [
    "# calculating the total number and percentage of missing data in 2014 to 3 decimal places\n",
    "\n",
    "# selecting the Y2014 column\n",
    "data_2014 = wk_data['Y2014']\n",
    "\n",
    "# counting the number of missing values in Y2014 column\n",
    "missing_values = data_2014.isnull().sum()\n",
    "\n",
    "# calculating the total number of data points in 2014\n",
    "total_value = len(data_2014)\n",
    "\n",
    "# calculating percentage of missing values in 2014\n",
    "percentage_missing = (missing_values / total_value) * 100\n",
    "\n",
    "# printing the results to 3 decimal places\n",
    "print(\"Total number of missing data points in 2014 is: \", missing_values)\n",
    "print(\"Percentage of missing data in 2014 is: \", \"{:.3f}%\".format(percentage_missing))"
   ]
  },
  {
   "cell_type": "code",
   "execution_count": 33,
   "id": "c8751892-14f8-4b13-9ebb-0e61ab1d22da",
   "metadata": {},
   "outputs": [
    {
     "name": "stdout",
     "output_type": "stream",
     "text": [
      "The year with the highest stock variation is:  Y2018\n"
     ]
    }
   ],
   "source": [
    "# Find the highest stock variation on Element column\n",
    "\n",
    "grp_element = wk_data.groupby('Element')[['Y2014', 'Y2015', 'Y2016', 'Y2017', 'Y2018']].sum()\n",
    "\n",
    "# Finding the year with the highest sum of stock variation\n",
    "highest_stck_var_yr = grp_element.sum(axis=0).idxmax()\n",
    "\n",
    "# printing the result\n",
    "print(\"The year with the highest stock variation is: \", highest_stck_var_yr)\n",
    "\n"
   ]
  },
  {
   "cell_type": "code",
   "execution_count": 34,
   "id": "c1de77ea-eaa4-4105-93b0-4c2587960104",
   "metadata": {},
   "outputs": [
    {
     "name": "stdout",
     "output_type": "stream",
     "text": [
      "Total protein supply qty in Madagascar in 2015 is:  43.26\n"
     ]
    }
   ],
   "source": [
    "# Finding protein supply in Madagascar in 2015\n",
    "\n",
    "madagascar_data_2015 = wk_data[(wk_data['Area'] == 'Madagascar') & (wk_data['Element'] == 'Protein supply quantity (g/capita/day)')]\n",
    "\n",
    "# sum protein supply qty col\n",
    "total_protein_supply_mad2015 = madagascar_data_2015['Y2015'].iloc[0]\n",
    "\n",
    "# printing the result\n",
    "print(\"Total protein supply qty in Madagascar in 2015 is: \", total_protein_supply_mad2015)"
   ]
  },
  {
   "cell_type": "code",
   "execution_count": 35,
   "id": "d397da1d-3e4a-43c3-9bca-7a22e4d7099c",
   "metadata": {},
   "outputs": [
    {
     "name": "stdout",
     "output_type": "stream",
     "text": [
      "Total number of unique countries are:  49\n"
     ]
    }
   ],
   "source": [
    "# finding the total number of unique countries\n",
    "\n",
    "# counting the number of unique countries in the Area column\n",
    "unique_countries = wk_data['Area'].nunique()\n",
    "\n",
    "# printing the result\n",
    "print(\"Total number of unique countries are: \", unique_countries)"
   ]
  },
  {
   "cell_type": "code",
   "execution_count": null,
   "id": "560dbd62-63bb-41fc-bfd3-c689e6d4b987",
   "metadata": {},
   "outputs": [],
   "source": []
  }
 ],
 "metadata": {
  "kernelspec": {
   "display_name": "Python 3 (ipykernel)",
   "language": "python",
   "name": "python3"
  },
  "language_info": {
   "codemirror_mode": {
    "name": "ipython",
    "version": 3
   },
   "file_extension": ".py",
   "mimetype": "text/x-python",
   "name": "python",
   "nbconvert_exporter": "python",
   "pygments_lexer": "ipython3",
   "version": "3.12.2"
  }
 },
 "nbformat": 4,
 "nbformat_minor": 5
}
