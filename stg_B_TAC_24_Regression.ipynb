{
 "cells": [
  {
   "cell_type": "code",
   "execution_count": 16,
   "id": "1c1f9b8c-8120-4236-bb67-e033638fa20f",
   "metadata": {},
   "outputs": [],
   "source": [
    "# Importing required libraries\n",
    "\n",
    "import pandas as pd\n",
    "import numpy as np\n",
    "from sklearn.model_selection import train_test_split\n",
    "from sklearn.linear_model import LinearRegression\n",
    "from sklearn.metrics import mean_squared_error\n",
    "from sklearn.preprocessing import MinMaxScaler\n",
    "from sklearn.metrics import mean_absolute_error\n",
    "from sklearn.linear_model import Lasso\n",
    "from sklearn.linear_model import Ridge"
   ]
  },
  {
   "cell_type": "code",
   "execution_count": 17,
   "id": "5c932ddc-2168-403e-87fd-07733d91e414",
   "metadata": {},
   "outputs": [],
   "source": [
    "# loading the dataset\n",
    "\n",
    "sb_data = pd.read_csv(r\"C:\\Users\\HP\\Documents\\Hamoye_Intern\\energydata_complete.csv\", encoding = \"latin-1\")"
   ]
  },
  {
   "cell_type": "code",
   "execution_count": 18,
   "id": "d37f0fd0-16ef-446f-a57a-52d1c15f32a1",
   "metadata": {},
   "outputs": [
    {
     "name": "stdout",
     "output_type": "stream",
     "text": [
      "                  date  Appliances  lights     T1       RH_1    T2       RH_2  \\\n",
      "0  2016-01-11 17:00:00          60      30  19.89  47.596667  19.2  44.790000   \n",
      "1  2016-01-11 17:10:00          60      30  19.89  46.693333  19.2  44.722500   \n",
      "2  2016-01-11 17:20:00          50      30  19.89  46.300000  19.2  44.626667   \n",
      "3  2016-01-11 17:30:00          50      40  19.89  46.066667  19.2  44.590000   \n",
      "4  2016-01-11 17:40:00          60      40  19.89  46.333333  19.2  44.530000   \n",
      "\n",
      "      T3       RH_3         T4  ...         T9   RH_9     T_out  Press_mm_hg  \\\n",
      "0  19.79  44.730000  19.000000  ...  17.033333  45.53  6.600000        733.5   \n",
      "1  19.79  44.790000  19.000000  ...  17.066667  45.56  6.483333        733.6   \n",
      "2  19.79  44.933333  18.926667  ...  17.000000  45.50  6.366667        733.7   \n",
      "3  19.79  45.000000  18.890000  ...  17.000000  45.40  6.250000        733.8   \n",
      "4  19.79  45.000000  18.890000  ...  17.000000  45.40  6.133333        733.9   \n",
      "\n",
      "   RH_out  Windspeed  Visibility  Tdewpoint        rv1        rv2  \n",
      "0    92.0   7.000000   63.000000        5.3  13.275433  13.275433  \n",
      "1    92.0   6.666667   59.166667        5.2  18.606195  18.606195  \n",
      "2    92.0   6.333333   55.333333        5.1  28.642668  28.642668  \n",
      "3    92.0   6.000000   51.500000        5.0  45.410389  45.410389  \n",
      "4    92.0   5.666667   47.666667        4.9  10.084097  10.084097  \n",
      "\n",
      "[5 rows x 29 columns]\n"
     ]
    }
   ],
   "source": [
    "# confirming successfull reading of the dataset\n",
    "\n",
    "print(sb_data.head())"
   ]
  },
  {
   "cell_type": "code",
   "execution_count": 4,
   "id": "1cf5a6bb-a8fd-4d4f-8d36-d43eb817b362",
   "metadata": {},
   "outputs": [
    {
     "name": "stdout",
     "output_type": "stream",
     "text": [
      "<class 'pandas.core.frame.DataFrame'>\n",
      "RangeIndex: 19735 entries, 0 to 19734\n",
      "Data columns (total 29 columns):\n",
      " #   Column       Non-Null Count  Dtype  \n",
      "---  ------       --------------  -----  \n",
      " 0   date         19735 non-null  object \n",
      " 1   Appliances   19735 non-null  int64  \n",
      " 2   lights       19735 non-null  int64  \n",
      " 3   T1           19735 non-null  float64\n",
      " 4   RH_1         19735 non-null  float64\n",
      " 5   T2           19735 non-null  float64\n",
      " 6   RH_2         19735 non-null  float64\n",
      " 7   T3           19735 non-null  float64\n",
      " 8   RH_3         19735 non-null  float64\n",
      " 9   T4           19735 non-null  float64\n",
      " 10  RH_4         19735 non-null  float64\n",
      " 11  T5           19735 non-null  float64\n",
      " 12  RH_5         19735 non-null  float64\n",
      " 13  T6           19735 non-null  float64\n",
      " 14  RH_6         19735 non-null  float64\n",
      " 15  T7           19735 non-null  float64\n",
      " 16  RH_7         19735 non-null  float64\n",
      " 17  T8           19735 non-null  float64\n",
      " 18  RH_8         19735 non-null  float64\n",
      " 19  T9           19735 non-null  float64\n",
      " 20  RH_9         19735 non-null  float64\n",
      " 21  T_out        19735 non-null  float64\n",
      " 22  Press_mm_hg  19735 non-null  float64\n",
      " 23  RH_out       19735 non-null  float64\n",
      " 24  Windspeed    19735 non-null  float64\n",
      " 25  Visibility   19735 non-null  float64\n",
      " 26  Tdewpoint    19735 non-null  float64\n",
      " 27  rv1          19735 non-null  float64\n",
      " 28  rv2          19735 non-null  float64\n",
      "dtypes: float64(26), int64(2), object(1)\n",
      "memory usage: 4.4+ MB\n"
     ]
    }
   ],
   "source": [
    "# getting information about the datasaet\n",
    "\n",
    "sb_data.info()"
   ]
  },
  {
   "cell_type": "code",
   "execution_count": 7,
   "id": "d2470df4-0798-49c6-8c22-34469a721bbf",
   "metadata": {},
   "outputs": [
    {
     "name": "stdout",
     "output_type": "stream",
     "text": [
      "Root Mean Squared Error: 3.633\n"
     ]
    }
   ],
   "source": [
    "\n",
    "# Extract features (T2) and target variable (T6)\n",
    "X = sb_data[['T2']]\n",
    "y = sb_data['T6']\n",
    "\n",
    "# Split the data into training and testing sets\n",
    "X_train, X_test, y_train, y_test = train_test_split(X, y, test_size=0.2, random_state=42)\n",
    "\n",
    "# Fit a linear regression model\n",
    "model = LinearRegression()\n",
    "model.fit(X_train, y_train)\n",
    "\n",
    "# Predict the target variable\n",
    "y_pred = model.predict(X_test)\n",
    "\n",
    "# Calculate RMSE\n",
    "rmse = np.sqrt(mean_squared_error(y_test, y_pred))\n",
    "\n",
    "# Display RMSE rounded to three decimal places\n",
    "print(\"Root Mean Squared Error:\", round(rmse, 3))\n"
   ]
  },
  {
   "cell_type": "code",
   "execution_count": 8,
   "id": "b2e3e9b6-c4e5-4ba1-958d-8bff2ad85877",
   "metadata": {},
   "outputs": [
    {
     "name": "stdout",
     "output_type": "stream",
     "text": [
      "Mean Absolute Error for the training set: 53.743\n"
     ]
    }
   ],
   "source": [
    "# Remove specified columns\n",
    "sb_data.drop(columns=[\"date\", \"lights\"], inplace=True)\n",
    "\n",
    "# Set the target variable as \"Appliances\"\n",
    "target = \"Appliances\"\n",
    "\n",
    "# Define features and target variable\n",
    "X = sb_data.drop(columns=[target])\n",
    "y = sb_data[target]\n",
    "\n",
    "# Split the data into training and testing sets\n",
    "X_train, X_test, y_train, y_test = train_test_split(X, y, test_size=0.3, random_state=42)\n",
    "\n",
    "# Normalize the dataset using MinMaxScaler\n",
    "scaler = MinMaxScaler()\n",
    "X_train_normalized = scaler.fit_transform(X_train)\n",
    "X_test_normalized = scaler.transform(X_test)\n",
    "\n",
    "# Fit a multiple linear regression model\n",
    "model = LinearRegression()\n",
    "model.fit(X_train_normalized, y_train)\n",
    "\n",
    "# Predict the target variable for the training set\n",
    "y_pred_train = model.predict(X_train_normalized)\n",
    "\n",
    "# Calculate Mean Absolute Error for the training set\n",
    "mae_train = mean_absolute_error(y_train, y_pred_train)\n",
    "\n",
    "# Display Mean Absolute Error for the training set rounded to three decimal places\n",
    "print(\"Mean Absolute Error for the training set:\", round(mae_train, 3))\n"
   ]
  },
  {
   "cell_type": "code",
   "execution_count": 9,
   "id": "7ea70fec-ce8f-4afe-8288-66718cd34f98",
   "metadata": {},
   "outputs": [
    {
     "name": "stdout",
     "output_type": "stream",
     "text": [
      "Root Mean Squared Error for the training set: 95.216\n"
     ]
    }
   ],
   "source": [
    "# Predict the target variable for the training set\n",
    "y_pred_train = model.predict(X_train_normalized)\n",
    "\n",
    "# Calculate Root Mean Squared Error for the training set\n",
    "rmse_train = np.sqrt(mean_squared_error(y_train, y_pred_train))\n",
    "\n",
    "# Display Root Mean Squared Error for the training set rounded to three decimal places\n",
    "print(\"Root Mean Squared Error for the training set:\", round(rmse_train, 3))\n"
   ]
  },
  {
   "cell_type": "code",
   "execution_count": 10,
   "id": "9ee073e2-0937-4531-ad51-f74b02dc984d",
   "metadata": {},
   "outputs": [
    {
     "name": "stdout",
     "output_type": "stream",
     "text": [
      "Mean Absolute Error for the test set: 53.643\n"
     ]
    }
   ],
   "source": [
    "# Predict the target variable for the test set\n",
    "y_pred_test = model.predict(X_test_normalized)\n",
    "\n",
    "# Calculate Mean Absolute Error for the test set\n",
    "mae_test = mean_absolute_error(y_test, y_pred_test)\n",
    "\n",
    "# Display Mean Absolute Error for the test set rounded to three decimal places\n",
    "print(\"Mean Absolute Error for the test set:\", round(mae_test, 3))\n"
   ]
  },
  {
   "cell_type": "code",
   "execution_count": 11,
   "id": "6129341e-4a52-4af8-aabe-f962a8edc94c",
   "metadata": {},
   "outputs": [
    {
     "name": "stdout",
     "output_type": "stream",
     "text": [
      "Root Mean Squared Error for the test set: 93.64\n"
     ]
    }
   ],
   "source": [
    "# Calculate Root Mean Squared Error for the test set\n",
    "rmse_test = np.sqrt(mean_squared_error(y_test, y_pred_test))\n",
    "\n",
    "# Display Root Mean Squared Error for the test set rounded to three decimal places\n",
    "print(\"Root Mean Squared Error for the test set:\", round(rmse_test, 3))\n"
   ]
  },
  {
   "cell_type": "code",
   "execution_count": 12,
   "id": "9e6f5cd5-3fd7-49b8-8fa1-c461957a83c2",
   "metadata": {},
   "outputs": [
    {
     "name": "stdout",
     "output_type": "stream",
     "text": [
      "Mean Absolute Error for the training set: 53.743\n",
      "Root Mean Squared Error for the training set: 95.216\n",
      "Mean Absolute Error for the test set: 53.643\n",
      "Root Mean Squared Error for the test set: 93.64\n"
     ]
    }
   ],
   "source": [
    "# Assuming you've already run the code to train the model and calculate MAE and RMSE for both sets\n",
    "\n",
    "# Display Mean Absolute Error for the training set\n",
    "print(\"Mean Absolute Error for the training set:\", round(mae_train, 3))\n",
    "\n",
    "# Display Root Mean Squared Error for the training set\n",
    "print(\"Root Mean Squared Error for the training set:\", round(rmse_train, 3))\n",
    "\n",
    "# Display Mean Absolute Error for the test set\n",
    "print(\"Mean Absolute Error for the test set:\", round(mae_test, 3))\n",
    "\n",
    "# Display Root Mean Squared Error for the test set\n",
    "print(\"Root Mean Squared Error for the test set:\", round(rmse_test, 3))\n"
   ]
  },
  {
   "cell_type": "code",
   "execution_count": 13,
   "id": "43ebab7f-16f5-485c-b4f4-8586608b1bad",
   "metadata": {},
   "outputs": [
    {
     "name": "stdout",
     "output_type": "stream",
     "text": [
      "Root Mean Squared Error for the test set with Ridge Regression: 93.709\n"
     ]
    }
   ],
   "source": [
    "# Train a Ridge Regression model with default parameters\n",
    "ridge_model = Ridge()\n",
    "ridge_model.fit(X_train_normalized, y_train)\n",
    "\n",
    "# Predict the target variable for the test set\n",
    "y_pred_test_ridge = ridge_model.predict(X_test_normalized)\n",
    "\n",
    "# Calculate Root Mean Squared Error for the test set with Ridge Regression\n",
    "rmse_test_ridge = np.sqrt(mean_squared_error(y_test, y_pred_test_ridge))\n",
    "\n",
    "# Display Root Mean Squared Error for the test set with Ridge Regression rounded to three decimal places\n",
    "print(\"Root Mean Squared Error for the test set with Ridge Regression:\", round(rmse_test_ridge, 3))\n"
   ]
  },
  {
   "cell_type": "code",
   "execution_count": 14,
   "id": "2ddfeea2-cdd2-48bb-9021-524083d7c9de",
   "metadata": {},
   "outputs": [
    {
     "name": "stdout",
     "output_type": "stream",
     "text": [
      "Number of features with non-zero feature weights: 4\n"
     ]
    }
   ],
   "source": [
    "# Train a Lasso Regression model with default parameters\n",
    "lasso_model = Lasso()\n",
    "lasso_model.fit(X_train_normalized, y_train)\n",
    "\n",
    "# Obtain the feature weights\n",
    "feature_weights = lasso_model.coef_\n",
    "\n",
    "# Count the number of features with non-zero feature weights\n",
    "non_zero_features = np.sum(feature_weights != 0)\n",
    "\n",
    "# Display the number of features with non-zero feature weights\n",
    "print(\"Number of features with non-zero feature weights:\", non_zero_features)\n"
   ]
  },
  {
   "cell_type": "code",
   "execution_count": 15,
   "id": "23b4dcf4-1ee6-4a50-a1a4-233a3e9a8802",
   "metadata": {},
   "outputs": [
    {
     "name": "stdout",
     "output_type": "stream",
     "text": [
      "Root Mean Squared Error for the test set with Lasso Regression: 99.424\n"
     ]
    }
   ],
   "source": [
    "# Train a Lasso Regression model with default parameters\n",
    "lasso_model = Lasso()\n",
    "lasso_model.fit(X_train_normalized, y_train)\n",
    "\n",
    "# Predict the target variable for the test set\n",
    "y_pred_test_lasso = lasso_model.predict(X_test_normalized)\n",
    "\n",
    "# Calculate Root Mean Squared Error for the test set with Lasso Regression\n",
    "rmse_test_lasso = np.sqrt(mean_squared_error(y_test, y_pred_test_lasso))\n",
    "\n",
    "# Display Root Mean Squared Error for the test set with Lasso Regression rounded to three decimal places\n",
    "print(\"Root Mean Squared Error for the test set with Lasso Regression:\", round(rmse_test_lasso, 3))\n"
   ]
  },
  {
   "cell_type": "code",
   "execution_count": null,
   "id": "47c864c0-df4d-4a17-b581-b40da8426620",
   "metadata": {},
   "outputs": [],
   "source": []
  }
 ],
 "metadata": {
  "kernelspec": {
   "display_name": "Python 3 (ipykernel)",
   "language": "python",
   "name": "python3"
  },
  "language_info": {
   "codemirror_mode": {
    "name": "ipython",
    "version": 3
   },
   "file_extension": ".py",
   "mimetype": "text/x-python",
   "name": "python",
   "nbconvert_exporter": "python",
   "pygments_lexer": "ipython3",
   "version": "3.12.2"
  }
 },
 "nbformat": 4,
 "nbformat_minor": 5
}
